{
 "cells": [
  {
   "cell_type": "code",
   "execution_count": null,
   "id": "00651716",
   "metadata": {},
   "outputs": [],
   "source": [
    "import pandas as pd\n",
    "import numpy as np"
   ]
  },
  {
   "cell_type": "code",
   "execution_count": null,
   "id": "a64637b4",
   "metadata": {},
   "outputs": [],
   "source": [
    "constraints = pd.read_xml(r'/mnt/c/users/ty90rize/repos/traffic-simulation/04_sumo_files/edge-data-file.xml',xpath='interval/edge')\n",
    "constraints"
   ]
  },
  {
   "cell_type": "markdown",
   "id": "72058e92",
   "metadata": {},
   "source": [
    "### Load sumo network"
   ]
  },
  {
   "cell_type": "code",
   "execution_count": null,
   "id": "d35e3ab4",
   "metadata": {},
   "outputs": [],
   "source": [
    "## get sumo network\n",
    "import sys\n",
    "sys.path.append(r'/mnt/c/users/ty90rize/Sumo/tools') # path to sumolib\n",
    "import sumolib"
   ]
  },
  {
   "cell_type": "code",
   "execution_count": null,
   "id": "3c86a2a4",
   "metadata": {},
   "outputs": [],
   "source": [
    "path_osm = '../roadmatching/oktober_data/big_map/osm_sumo_data/2023-11-27-15-41-55/osm.net.xml/osm_final_2024-02-25.net.xml'"
   ]
  },
  {
   "cell_type": "code",
   "execution_count": null,
   "id": "482fa763",
   "metadata": {},
   "outputs": [],
   "source": [
    "net_osm = sumolib.net.readNet(path_osm)"
   ]
  },
  {
   "cell_type": "markdown",
   "id": "3e0e91fd",
   "metadata": {},
   "source": [
    "## remove edges with inconsistencies"
   ]
  },
  {
   "cell_type": "code",
   "execution_count": null,
   "id": "1fc9a3a8",
   "metadata": {},
   "outputs": [],
   "source": [
    "def save_df_to_xml(df, filename):\n",
    "    import xml.etree.cElementTree as ET\n",
    "\n",
    "    ids_of_interest = [1]\n",
    "\n",
    "    root = ET.Element(\"data\")\n",
    "    intervals = dict()\n",
    "    for idx, elem in enumerate(ids_of_interest):\n",
    "        interval = ET.SubElement(root, \"interval\", id=str(elem), begin=str(idx*3600), end=str(idx*3600+3599))\n",
    "        print(interval)\n",
    "        intervals[str(elem)] = interval\n",
    "        \n",
    "    for idx, row in df.iterrows():\n",
    "        interval = intervals[str(ids_of_interest[0])]\n",
    "        ET.SubElement(interval, \"edge\", id = row['id'], entered = str(row['entered']))\n",
    "\n",
    "    tree = ET.ElementTree(root)\n",
    "    ET.indent(tree, space = \"\\t\", level = 0)\n",
    "    tree.write(filename)"
   ]
  },
  {
   "cell_type": "code",
   "execution_count": null,
   "id": "6462d1d5",
   "metadata": {},
   "outputs": [],
   "source": [
    "iscompletes = []\n",
    "differences_in = []\n",
    "differences_out = []\n",
    "edgecounts = []\n",
    "edgeids = []\n",
    "nooutgoing = []\n",
    "noincoming = []\n",
    "\n",
    "for idx, row in constraints.iterrows():\n",
    "    osmid = row['id']\n",
    "    edge = net_osm.getEdge(osmid)\n",
    "    incomings = [e.getID() for e in edge.getIncoming()]\n",
    "    outgoings = [e.getID() for e in edge.getOutgoing()]\n",
    "    if outgoings == []:\n",
    "        nooutgoing.append(True)\n",
    "    else:\n",
    "        nooutgoing.append(False)\n",
    "    if incomings == []:\n",
    "        noincoming.append(True)\n",
    "    else:\n",
    "        noincoming.append(False)\n",
    "    summe = 0\n",
    "    summe_out = 0\n",
    "    problems = -1\n",
    "    for edgeid in incomings:\n",
    "        try:\n",
    "            summe += constraints[constraints['id'] == edgeid]['entered'].iloc[0]\n",
    "        except IndexError:\n",
    "            problems += 1\n",
    "    for edgeid in outgoings:\n",
    "        try:\n",
    "            summe_out += constraints[constraints['id'] == edgeid]['entered'].iloc[0]\n",
    "        except IndexError:\n",
    "            problems += 1\n",
    "    if problems == -1:\n",
    "        iscompletes.append(True)\n",
    "    else:\n",
    "        iscompletes.append(False)\n",
    "    edgecounts.append(row['entered'])\n",
    "    edgeids.append(edge.getID())\n",
    "    differences_in.append(summe - row['entered'])\n",
    "    differences_out.append(row['entered'] - summe_out)"
   ]
  },
  {
   "cell_type": "code",
   "execution_count": null,
   "id": "5533c90d",
   "metadata": {},
   "outputs": [],
   "source": [
    "stat_df = pd.DataFrame({'ID':edgeids, 'Counts':edgecounts, 'DiffIn':differences_in, \n",
    "                        'DiffOut':differences_out, 'iscomplete':iscompletes,\n",
    "                       'noincoming':noincoming, 'nooutgoing':nooutgoing})\n",
    "stat_df"
   ]
  },
  {
   "cell_type": "code",
   "execution_count": null,
   "id": "8e8ce22e",
   "metadata": {},
   "outputs": [],
   "source": [
    "stat_df['max_abs_diff'] = stat_df.apply(lambda x: \n",
    "                                        max(np.abs(x['DiffIn']), np.abs(x['DiffOut'])),\n",
    "                                       axis = 1)\n",
    "stat_df['max_rel_diff'] = stat_df['max_abs_diff'] / stat_df['Counts']"
   ]
  },
  {
   "cell_type": "code",
   "execution_count": null,
   "id": "fd46e3a0",
   "metadata": {},
   "outputs": [],
   "source": [
    "stat_df[(stat_df['max_rel_diff']>0.35) & (stat_df['iscomplete']==True) & (stat_df['max_abs_diff'] > 100)]"
   ]
  },
  {
   "cell_type": "code",
   "execution_count": null,
   "id": "7411faf2",
   "metadata": {},
   "outputs": [],
   "source": [
    "problematic_edge_ids = stat_df[(stat_df['max_rel_diff']>0.35) & \n",
    "                               (stat_df['iscomplete']==True) & \n",
    "                               (stat_df['max_abs_diff'] > 100) & \n",
    "                              (stat_df['noincoming']==False) &\n",
    "                              (stat_df['nooutgoing']==False)]['ID'].tolist()"
   ]
  },
  {
   "cell_type": "code",
   "execution_count": null,
   "id": "e92c460b",
   "metadata": {},
   "outputs": [],
   "source": [
    "constraints = constraints[~constraints['id'].isin(problematic_edge_ids)]"
   ]
  },
  {
   "cell_type": "code",
   "execution_count": null,
   "id": "996fd826",
   "metadata": {},
   "outputs": [],
   "source": [
    "save_df_to_xml(constraints, \"constraints_reduced_conflicts.xml\")"
   ]
  },
  {
   "cell_type": "markdown",
   "id": "8c7884a0",
   "metadata": {},
   "source": [
    "## Manual corrections"
   ]
  },
  {
   "cell_type": "code",
   "execution_count": null,
   "id": "ef59e71f",
   "metadata": {},
   "outputs": [],
   "source": [
    "new_row = {'id':'E1', 'entered':2460}"
   ]
  },
  {
   "cell_type": "code",
   "execution_count": null,
   "id": "fde918c3",
   "metadata": {},
   "outputs": [],
   "source": [
    "constraints = constraints.append(new_row, ignore_index = True)"
   ]
  },
  {
   "cell_type": "code",
   "execution_count": null,
   "id": "4d1277ae",
   "metadata": {},
   "outputs": [],
   "source": [
    "new_row = {'id':'E2', 'entered':2460}"
   ]
  },
  {
   "cell_type": "code",
   "execution_count": null,
   "id": "7227aece",
   "metadata": {},
   "outputs": [],
   "source": [
    "constraints = constraints.append(new_row, ignore_index = True)"
   ]
  },
  {
   "cell_type": "code",
   "execution_count": null,
   "id": "0a166ed5",
   "metadata": {},
   "outputs": [],
   "source": [
    "save_df_to_xml(constraints, \"constraints_final.xml\")"
   ]
  }
 ],
 "metadata": {
  "kernelspec": {
   "display_name": "Python 3 (ipykernel)",
   "language": "python",
   "name": "python3"
  },
  "language_info": {
   "codemirror_mode": {
    "name": "ipython",
    "version": 3
   },
   "file_extension": ".py",
   "mimetype": "text/x-python",
   "name": "python",
   "nbconvert_exporter": "python",
   "pygments_lexer": "ipython3",
   "version": "3.10.8"
  }
 },
 "nbformat": 4,
 "nbformat_minor": 5
}
