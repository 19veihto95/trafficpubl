{
 "cells": [
  {
   "cell_type": "code",
   "execution_count": null,
   "id": "73da27a5",
   "metadata": {},
   "outputs": [],
   "source": [
    "import pandas as pd\n",
    "import matplotlib.pyplot as plt\n",
    "import numpy as np"
   ]
  },
  {
   "cell_type": "code",
   "execution_count": null,
   "id": "7de7866a",
   "metadata": {},
   "outputs": [],
   "source": [
    "df = pd.read_xml(r'path-to-mismatch-file.xml',xpath='interval/edge')"
   ]
  },
  {
   "cell_type": "code",
   "execution_count": null,
   "id": "c5a68880",
   "metadata": {},
   "outputs": [],
   "source": [
    "df"
   ]
  },
  {
   "cell_type": "code",
   "execution_count": null,
   "id": "563657d0",
   "metadata": {},
   "outputs": [],
   "source": [
    "def GEH(m, c):\n",
    "    return np.sqrt((2 * (m - c)**2)/(m+c))"
   ]
  },
  {
   "cell_type": "code",
   "execution_count": null,
   "id": "72198f51",
   "metadata": {},
   "outputs": [],
   "source": [
    "df['outputCount'] = df['measuredCount'] - df['deficit']"
   ]
  },
  {
   "cell_type": "code",
   "execution_count": null,
   "id": "b6e04d57",
   "metadata": {},
   "outputs": [],
   "source": [
    "df = df.sort_values(by = 'deficit', ascending = False)"
   ]
  },
  {
   "cell_type": "code",
   "execution_count": null,
   "id": "05a587d2",
   "metadata": {},
   "outputs": [],
   "source": [
    "df.head(50) # inspect worst mismatches"
   ]
  },
  {
   "cell_type": "code",
   "execution_count": null,
   "id": "bbba7bcc",
   "metadata": {},
   "outputs": [],
   "source": [
    "df['GEH'] = df.apply(lambda x: GEH(x['outputCount'], x['measuredCount']), axis = 1) # calculate GEH"
   ]
  },
  {
   "cell_type": "code",
   "execution_count": null,
   "id": "15b3adfd",
   "metadata": {},
   "outputs": [],
   "source": [
    "df"
   ]
  },
  {
   "cell_type": "code",
   "execution_count": null,
   "id": "ae05ad4b",
   "metadata": {},
   "outputs": [],
   "source": [
    "df[df['GEH']<5] # filter on GEH < 5"
   ]
  },
  {
   "cell_type": "code",
   "execution_count": null,
   "id": "66ed5368",
   "metadata": {},
   "outputs": [],
   "source": [
    "df = df.sort_values(by = 'GEH', ascending = False)"
   ]
  },
  {
   "cell_type": "code",
   "execution_count": null,
   "id": "93a154f9",
   "metadata": {},
   "outputs": [],
   "source": [
    "plt.bar(list(range(4214)), df.reset_index()['GEH']) # show descending GEH"
   ]
  },
  {
   "cell_type": "code",
   "execution_count": null,
   "id": "bf447dfb",
   "metadata": {},
   "outputs": [],
   "source": [
    "# GEH Histogram\n",
    "fig, ax = plt.subplots()\n",
    "ax.hist(df['GEH'])\n",
    "ax.set_ylabel('Absolute frequency')\n",
    "ax.set_xlabel('GEH in √(vehicles / h)')"
   ]
  },
  {
   "cell_type": "code",
   "execution_count": null,
   "id": "50a87ace",
   "metadata": {},
   "outputs": [],
   "source": [
    "# 5 < GEH <= 10\n",
    "df[(df['GEH']>5)&(df['GEH']<=10)]"
   ]
  },
  {
   "cell_type": "code",
   "execution_count": null,
   "id": "191943a8",
   "metadata": {},
   "outputs": [],
   "source": [
    "len(df[(df['GEH']>10)])"
   ]
  },
  {
   "cell_type": "code",
   "execution_count": null,
   "id": "a73c2b77",
   "metadata": {},
   "outputs": [],
   "source": [
    "201/4214"
   ]
  },
  {
   "cell_type": "code",
   "execution_count": null,
   "id": "f73961cb",
   "metadata": {},
   "outputs": [],
   "source": [
    "31/4214"
   ]
  },
  {
   "cell_type": "markdown",
   "id": "93c67d80",
   "metadata": {},
   "source": [
    "## Affinity index"
   ]
  },
  {
   "cell_type": "code",
   "execution_count": null,
   "id": "3763dc14",
   "metadata": {},
   "outputs": [],
   "source": [
    "def affinity(x, y):\n",
    "    base = x if x > y else y\n",
    "    counter = x if x < y else y\n",
    "    return np.abs(counter / base)"
   ]
  },
  {
   "cell_type": "code",
   "execution_count": null,
   "id": "3aa0bcd7",
   "metadata": {},
   "outputs": [],
   "source": [
    "df['AffinityIndex'] = df.apply(lambda x: affinity(x['outputCount'], x['measuredCount']), axis = 1)"
   ]
  },
  {
   "cell_type": "code",
   "execution_count": null,
   "id": "e7cfae7c",
   "metadata": {},
   "outputs": [],
   "source": [
    "df"
   ]
  },
  {
   "cell_type": "code",
   "execution_count": null,
   "id": "07e51f10",
   "metadata": {},
   "outputs": [],
   "source": [
    "df = df.sort_values(by = 'AffinityIndex', ascending = False)"
   ]
  },
  {
   "cell_type": "code",
   "execution_count": null,
   "id": "4fbd251c",
   "metadata": {},
   "outputs": [],
   "source": [
    "plt.rcParams.update({\n",
    "    \"text.usetex\": True,\n",
    "    \"font.family\": \"Helvetica\",\n",
    "    \"font.size\":28\n",
    "})"
   ]
  },
  {
   "cell_type": "code",
   "execution_count": null,
   "id": "f722e274",
   "metadata": {},
   "outputs": [],
   "source": [
    "x = list(range(len(df)))\n",
    "x = [(i/(len(x)-1)) * 100 for i in x]"
   ]
  },
  {
   "cell_type": "code",
   "execution_count": null,
   "id": "65fc2399",
   "metadata": {},
   "outputs": [],
   "source": [
    "import matplotlib.ticker as ticker\n",
    "fig, ax = plt.subplots(figsize = (9, 9))\n",
    "ax.bar(x=x, height = df['AffinityIndex']*100, width = 1.0)\n",
    "ax.set_ylabel('Affinity in \\%')\n",
    "ax.set_xlabel('Edges in \\%')\n",
    "ax.xaxis.set_major_locator(ticker.MultipleLocator(10))\n",
    "ax.yaxis.set_major_locator(ticker.MultipleLocator(10))\n",
    "ax.yaxis.grid(color = 'lightgray')\n",
    "ax.xaxis.grid(color = 'lightgray')\n",
    "fig.tight_layout()\n",
    "fig.savefig('affinityindex.pdf')"
   ]
  },
  {
   "cell_type": "code",
   "execution_count": null,
   "id": "db7af26a",
   "metadata": {},
   "outputs": [],
   "source": [
    "## Measured vs. modeled count"
   ]
  },
  {
   "cell_type": "code",
   "execution_count": null,
   "id": "7f6ffafb",
   "metadata": {},
   "outputs": [],
   "source": [
    "fig, ax = plt.subplots(figsize = (9, 9))\n",
    "ax.scatter(df['measuredCount'], df['outputCount'])\n",
    "ax.set_xlabel('Input count')\n",
    "ax.set_ylabel('Modeled count')\n",
    "ax.xaxis.set_major_locator(ticker.MultipleLocator(500))\n",
    "fig.tight_layout()\n",
    "fig.savefig('countComparisonScatter.pdf')"
   ]
  }
 ],
 "metadata": {
  "kernelspec": {
   "display_name": "Python 3 (ipykernel)",
   "language": "python",
   "name": "python3"
  },
  "language_info": {
   "codemirror_mode": {
    "name": "ipython",
    "version": 3
   },
   "file_extension": ".py",
   "mimetype": "text/x-python",
   "name": "python",
   "nbconvert_exporter": "python",
   "pygments_lexer": "ipython3",
   "version": "3.10.8"
  }
 },
 "nbformat": 4,
 "nbformat_minor": 5
}
