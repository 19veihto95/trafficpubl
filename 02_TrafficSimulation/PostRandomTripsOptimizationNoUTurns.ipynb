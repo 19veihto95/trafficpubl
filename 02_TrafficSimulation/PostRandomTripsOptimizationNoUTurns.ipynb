{
 "cells": [
  {
   "cell_type": "code",
   "execution_count": null,
   "id": "2c4a64e7",
   "metadata": {},
   "outputs": [],
   "source": [
    "import pandas as pd\n",
    "import numpy as np\n",
    "import xml.etree.cElementTree as ET"
   ]
  },
  {
   "cell_type": "code",
   "execution_count": null,
   "id": "51bd3a00",
   "metadata": {},
   "outputs": [],
   "source": [
    "filepath = r'network/random-routes-file_2024-02-24_md4500_ff50.rou.xml' # path to random trips file"
   ]
  },
  {
   "cell_type": "code",
   "execution_count": null,
   "id": "6c143662",
   "metadata": {},
   "outputs": [],
   "source": [
    "tree = ET.parse(filepath)"
   ]
  },
  {
   "cell_type": "code",
   "execution_count": null,
   "id": "2af5feff",
   "metadata": {},
   "outputs": [],
   "source": [
    "root = tree.getroot()"
   ]
  },
  {
   "cell_type": "code",
   "execution_count": null,
   "id": "bde01fa8",
   "metadata": {},
   "outputs": [],
   "source": [
    "ids = []\n",
    "depart = []\n",
    "edges = []\n",
    "\n",
    "count = 0\n",
    "\n",
    "for vehicle in root:\n",
    "    for route in vehicle:\n",
    "        ids.append(vehicle.attrib['id'])\n",
    "        depart.append(vehicle.attrib['depart'])\n",
    "        edges.append(np.array(route.attrib['edges'].split(' ')))\n",
    "    count += 1\n",
    "    \n",
    "df = pd.DataFrame({'id':ids, 'depart':depart, 'edges':edges})"
   ]
  },
  {
   "cell_type": "code",
   "execution_count": null,
   "id": "774a0a15",
   "metadata": {},
   "outputs": [],
   "source": [
    "df"
   ]
  },
  {
   "cell_type": "markdown",
   "id": "ca1d81ef",
   "metadata": {},
   "source": [
    "## Inspect"
   ]
  },
  {
   "cell_type": "markdown",
   "id": "767f0a59",
   "metadata": {},
   "source": [
    "#### Load SUMO road network"
   ]
  },
  {
   "cell_type": "code",
   "execution_count": null,
   "id": "67d39f09",
   "metadata": {},
   "outputs": [],
   "source": [
    "## get sumo network\n",
    "import sys\n",
    "sys.path.append(r'/mnt/c/users/ty90rize/Sumo/tools') # path to sumolib\n",
    "import sumolib"
   ]
  },
  {
   "cell_type": "code",
   "execution_count": null,
   "id": "b9c60ab7",
   "metadata": {},
   "outputs": [],
   "source": [
    "path_osm = 'network/osm_final_2024-02-25.net.xml'"
   ]
  },
  {
   "cell_type": "code",
   "execution_count": null,
   "id": "7f165762",
   "metadata": {},
   "outputs": [],
   "source": [
    "net_osm = sumolib.net.readNet(path_osm)"
   ]
  },
  {
   "cell_type": "markdown",
   "id": "269a2692",
   "metadata": {},
   "source": [
    "## Detect u-turns and remove"
   ]
  },
  {
   "cell_type": "code",
   "execution_count": null,
   "id": "c5c9f496",
   "metadata": {},
   "outputs": [],
   "source": [
    "def detect_uturn(net, route):\n",
    "    prior_previous_id = None\n",
    "    prior_next_id = None\n",
    "    prior_id = None\n",
    "    for edge_id in route:\n",
    "        edge = net.getEdge(edge_id)\n",
    "        previous_id = edge.getFromNode().getID()\n",
    "        next_id = edge.getToNode().getID()\n",
    "        if prior_id is not None:\n",
    "            if (previous_id == prior_next_id) and (next_id == prior_previous_id):\n",
    "                return 1\n",
    "        prior_id = edge_id\n",
    "        prior_next_id = next_id\n",
    "        prior_previous_id = previous_id\n",
    "    return 0"
   ]
  },
  {
   "cell_type": "code",
   "execution_count": null,
   "id": "739a46ac",
   "metadata": {},
   "outputs": [],
   "source": [
    "remove = df['edges'].apply(lambda x: detect_uturn(net_osm, x))\n",
    "df['remove'] = remove"
   ]
  },
  {
   "cell_type": "code",
   "execution_count": null,
   "id": "764c7c87",
   "metadata": {},
   "outputs": [],
   "source": [
    "print('{} routes are going to be removed.'.format(sum(remove)))"
   ]
  },
  {
   "cell_type": "markdown",
   "id": "f1ffc70c",
   "metadata": {},
   "source": [
    "## Copied manually from source file"
   ]
  },
  {
   "cell_type": "code",
   "execution_count": null,
   "id": "231ebbfa",
   "metadata": {},
   "outputs": [],
   "source": [
    "attrib = {'xmlns:xsi':\"http://www.w3.org/2001/XMLSchema-instance\", \n",
    "          'xsi:noNamespaceSchemaLocation':\"http://sumo.dlr.de/xsd/routes_file.xsd\"}"
   ]
  },
  {
   "cell_type": "code",
   "execution_count": null,
   "id": "a526c7b4",
   "metadata": {},
   "outputs": [],
   "source": [
    "new_root = ET.Element(root.tag)"
   ]
  },
  {
   "cell_type": "code",
   "execution_count": null,
   "id": "75b1b1e3",
   "metadata": {},
   "outputs": [],
   "source": [
    "new_root.attrib = attrib"
   ]
  },
  {
   "cell_type": "markdown",
   "id": "140da6e6",
   "metadata": {},
   "source": [
    "## Create new df"
   ]
  },
  {
   "cell_type": "code",
   "execution_count": null,
   "id": "950b8953",
   "metadata": {},
   "outputs": [],
   "source": [
    "from datetime import datetime\n",
    "now = datetime.now()\n",
    "timesuffix = now.strftime(\"%y%m%d_%H%M%S\")"
   ]
  },
  {
   "cell_type": "code",
   "execution_count": null,
   "id": "9395a90e",
   "metadata": {},
   "outputs": [],
   "source": [
    "for idx, row in df.iterrows():\n",
    "    if row['remove'] == 0:\n",
    "        vehicle = ET.SubElement(new_root, \"vehicle\", id=row['id'], depart = row['depart'])\n",
    "        route = ET.SubElement(vehicle, \"route\", edges = \" \".join(row['edges']))\n",
    "\n",
    "new_tree = ET.ElementTree(new_root)\n",
    "ET.indent(new_tree, space = \"\\t\", level = 0)\n",
    "new_tree.write('network/{}_{}.rou.xml'.format(filepath[:-8], timesuffix))"
   ]
  },
  {
   "cell_type": "code",
   "execution_count": null,
   "id": "7b22bd51",
   "metadata": {},
   "outputs": [],
   "source": []
  }
 ],
 "metadata": {
  "kernelspec": {
   "display_name": "Python 3 (ipykernel)",
   "language": "python",
   "name": "python3"
  },
  "language_info": {
   "codemirror_mode": {
    "name": "ipython",
    "version": 3
   },
   "file_extension": ".py",
   "mimetype": "text/x-python",
   "name": "python",
   "nbconvert_exporter": "python",
   "pygments_lexer": "ipython3",
   "version": "3.10.8"
  }
 },
 "nbformat": 4,
 "nbformat_minor": 5
}
