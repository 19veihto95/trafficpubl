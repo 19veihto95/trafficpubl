{
 "cells": [
  {
   "cell_type": "code",
   "execution_count": null,
   "id": "e753a73f",
   "metadata": {},
   "outputs": [],
   "source": [
    "import sys\n",
    "import os\n",
    "\n",
    "from joblib import load\n",
    "import numpy as np\n",
    "\n",
    "sys.path.append(r'/mnt/c/users/ty90rize/Sumo/tools') # path to sumolib\n",
    "sys.path.append(r'/mnt/c/users/ty90rize/repos/roadmatching/labelling_tool') # path to labelling tool\n",
    "import sumolib\n",
    "import pandas as pd"
   ]
  },
  {
   "cell_type": "code",
   "execution_count": null,
   "id": "fe3eb29b",
   "metadata": {},
   "outputs": [],
   "source": [
    "path_osm_network = 'oktober_data/big_map/osm_sumo_data/2023-11-27-15-41-55/osm.net.xml/osm_final_2024-02-25.net.xml'\n",
    "path_tomtom_network = 'oktober_data/big_map/tomtom_sumo_data/tomtom_sumo.net.xml'\n",
    "\n",
    "path_tomtom_db_files = 'oktober_data/big_map/tomtom_raw_data/jobs_3537419_results_FO-10-2023.shapefile'\n",
    "tomtom_toi = 'fr7_0_11_30-12_30_6.dbf'\n",
    "\n",
    "path_traffic_count = os.path.join(path_tomtom_db_files, tomtom_toi)"
   ]
  },
  {
   "cell_type": "markdown",
   "id": "4d55642e",
   "metadata": {},
   "source": [
    "### Custom file"
   ]
  },
  {
   "cell_type": "code",
   "execution_count": null,
   "id": "005ece5b",
   "metadata": {},
   "outputs": [],
   "source": [
    "folder_path = '/mnt/c/users/ty90rize/Repos/roadmatching/out_dir' # path where file with similarity calculation is located\n",
    "bigmap_df = pd.read_json(os.path.join(folder_path, 'preprocessed_df_bigmap_2023-12-13.json'))"
   ]
  },
  {
   "cell_type": "code",
   "execution_count": null,
   "id": "ccd5ea3b",
   "metadata": {},
   "outputs": [],
   "source": [
    "subset_cols = [i for i in bigmap_df.columns if i not in ['coords_ls1', 'coords_ls2', 'ls1_orig', 'ls2_orig']]\n",
    "bigmap_df = bigmap_df[~bigmap_df.duplicated(subset = subset_cols)]"
   ]
  },
  {
   "cell_type": "code",
   "execution_count": null,
   "id": "39b76e22",
   "metadata": {},
   "outputs": [],
   "source": [
    "bigmap_df"
   ]
  },
  {
   "cell_type": "markdown",
   "id": "4af3dd84",
   "metadata": {},
   "source": [
    "## Apply roadmatching ML algorithm"
   ]
  },
  {
   "cell_type": "code",
   "execution_count": null,
   "id": "2fc29c9f",
   "metadata": {},
   "outputs": [],
   "source": [
    "model_filepath = 'DecisionTreeModel/dt_model_wo_strokes_231213_200151.joblib'"
   ]
  },
  {
   "cell_type": "raw",
   "id": "cbe7ad5e",
   "metadata": {},
   "source": [
    "X = bigmap_df[['sinuosity_sim', 'cosine_sim', 'hausdorff_mod', 'stroke_hausdorff_mod', \n",
    "           'stroke_cosine_sim', 'stroke_frechet', 'stroke_sinuosity_sim', 'stroke_hausdorff']]"
   ]
  },
  {
   "cell_type": "code",
   "execution_count": null,
   "id": "6d7c64ad",
   "metadata": {},
   "outputs": [],
   "source": [
    "X = bigmap_df[['sinuosity_sim', 'cosine_sim', 'hausdorff_mod']]"
   ]
  },
  {
   "cell_type": "code",
   "execution_count": null,
   "id": "0130a597",
   "metadata": {},
   "outputs": [],
   "source": [
    "clf = load(model_filepath)\n",
    "\n",
    "bigmap_df['predicted'] = clf.predict(X)\n",
    "del X"
   ]
  },
  {
   "cell_type": "code",
   "execution_count": null,
   "id": "06814aad",
   "metadata": {},
   "outputs": [],
   "source": [
    "bigmap_df = bigmap_df[['OSM', 'Tomtom', 'predicted']]\n",
    "bigmap_df"
   ]
  },
  {
   "cell_type": "markdown",
   "id": "fce3ef5f",
   "metadata": {},
   "source": [
    "## If applicable: Overwrite manual corrections"
   ]
  },
  {
   "cell_type": "code",
   "execution_count": null,
   "id": "83ac2a61",
   "metadata": {},
   "outputs": [],
   "source": [
    "# applicable if there are manually labeled instances that shall be used to overwrite potentially different predictions"
   ]
  },
  {
   "cell_type": "code",
   "execution_count": null,
   "id": "a361dd4a",
   "metadata": {},
   "outputs": [],
   "source": [
    "def build_ground_truth_df(relative_filedir):\n",
    "    files = os.listdir(relative_filedir)\n",
    "    dfs = []\n",
    "    for file in files:\n",
    "        filepath = os.path.join(relative_filedir, file)\n",
    "        df = pd.read_csv(filepath)\n",
    "        dfs.append(df)\n",
    "    df = pd.concat(dfs).reset_index(drop = True)\n",
    "    df['matches'] = 1\n",
    "    df['OSM'] = df['OSM'].astype('str')\n",
    "    df['Tomtom'] = df['Tomtom'].astype('str')\n",
    "    return df"
   ]
  },
  {
   "cell_type": "code",
   "execution_count": null,
   "id": "781b98b4",
   "metadata": {},
   "outputs": [],
   "source": [
    "eval_gt = build_ground_truth_df('labelling_tool/data_fin') # correct path if necessary\n",
    "eval_gt.rename(columns = {'matches':'predicted'}, inplace = True)"
   ]
  },
  {
   "cell_type": "code",
   "execution_count": null,
   "id": "84cda07b",
   "metadata": {},
   "outputs": [],
   "source": [
    "bigmap_df = bigmap_df[~bigmap_df['OSM'].isin(eval_gt['OSM'])]"
   ]
  },
  {
   "cell_type": "code",
   "execution_count": null,
   "id": "fda97f33",
   "metadata": {},
   "outputs": [],
   "source": [
    "bigmap_df"
   ]
  },
  {
   "cell_type": "code",
   "execution_count": null,
   "id": "9bf4b8a8",
   "metadata": {},
   "outputs": [],
   "source": [
    "bigmap_df = pd.concat([bigmap_df, eval_gt]).reset_index(drop = True)\n",
    "bigmap_df"
   ]
  },
  {
   "cell_type": "markdown",
   "id": "8ab11d7f",
   "metadata": {},
   "source": [
    "## Continuing"
   ]
  },
  {
   "cell_type": "code",
   "execution_count": null,
   "id": "e12851a4",
   "metadata": {},
   "outputs": [],
   "source": [
    "bigmap_df = bigmap_df[bigmap_df['predicted']==1]"
   ]
  },
  {
   "cell_type": "code",
   "execution_count": null,
   "id": "c8e8b274",
   "metadata": {},
   "outputs": [],
   "source": [
    "bigmap_df"
   ]
  },
  {
   "cell_type": "markdown",
   "id": "57083304",
   "metadata": {},
   "source": [
    "## Get road counts"
   ]
  },
  {
   "cell_type": "code",
   "execution_count": null,
   "id": "ec6a4b19",
   "metadata": {},
   "outputs": [],
   "source": [
    "%load_ext autoreload\n",
    "%autoreload 2\n",
    "\n",
    "from dbfread import DBF"
   ]
  },
  {
   "cell_type": "code",
   "execution_count": null,
   "id": "5d283e14",
   "metadata": {},
   "outputs": [],
   "source": [
    "cs10_id = []\n",
    "cs10_hits = []\n",
    "\n",
    "for record in DBF(path_traffic_count):\n",
    "    cs10_id.append(record['CS7_Id'])\n",
    "    cs10_hits.append(record['CS7_Hits'])  "
   ]
  },
  {
   "cell_type": "code",
   "execution_count": null,
   "id": "3c1b9b6e",
   "metadata": {},
   "outputs": [],
   "source": [
    "count_df = pd.DataFrame({'Tomtom_id':cs10_id, 'samples':cs10_hits})\n",
    "count_df['Tomtom_id'] -= 1\n",
    "count_df['Tomtom_id'] = count_df['Tomtom_id'].astype('str')\n",
    "count_df"
   ]
  },
  {
   "cell_type": "code",
   "execution_count": null,
   "id": "d2972e75",
   "metadata": {},
   "outputs": [],
   "source": [
    "bigmap_df['Tomtom'] = bigmap_df['Tomtom'].astype('str')"
   ]
  },
  {
   "cell_type": "code",
   "execution_count": null,
   "id": "c0f62bb8",
   "metadata": {},
   "outputs": [],
   "source": [
    "count_df = pd.merge(bigmap_df, count_df, how = 'left', left_on = 'Tomtom', right_on = 'Tomtom_id')\n",
    "count_df"
   ]
  },
  {
   "cell_type": "code",
   "execution_count": null,
   "id": "19cfdbd0",
   "metadata": {},
   "outputs": [],
   "source": [
    "count_df = count_df[~count_df['samples'].isnull()] # filter out nans"
   ]
  },
  {
   "cell_type": "raw",
   "id": "2bbeaca4",
   "metadata": {},
   "source": [
    "## Test application: get tomtom matches for baysis edges\n",
    "baysis = pd.read_csv('baysis_and_tomtom/edges_osm_baysis.csv', header = None)\n",
    "baysis_tomtom = count_df[count_df['OSM'].isin(baysis[0])]\n",
    "baysis_tomtom.to_csv('baysis_and_tomtom/baysis_tomtom_mapping.csv')"
   ]
  },
  {
   "cell_type": "markdown",
   "id": "1707f031",
   "metadata": {},
   "source": [
    "### Remove inconsistencies"
   ]
  },
  {
   "cell_type": "code",
   "execution_count": null,
   "id": "88a9437d",
   "metadata": {},
   "outputs": [],
   "source": [
    "consistency_check = count_df[['OSM', 'samples']].groupby('OSM').agg({'mean', np.median})\n",
    "consistency_check.columns = consistency_check.columns.droplevel(0)"
   ]
  },
  {
   "cell_type": "code",
   "execution_count": null,
   "id": "4863f50c",
   "metadata": {},
   "outputs": [],
   "source": [
    "consistency_check['rel_diff'] = abs((consistency_check['median'] - consistency_check['mean'])/consistency_check['mean'])"
   ]
  },
  {
   "cell_type": "code",
   "execution_count": null,
   "id": "ab61be6c",
   "metadata": {},
   "outputs": [],
   "source": [
    "consistency_check['rel_diff'] = consistency_check.apply(lambda x: 0 if (x['mean']==0 and x['median']==0) else x['rel_diff'],\n",
    "                                                       axis = 1)"
   ]
  },
  {
   "cell_type": "markdown",
   "id": "1e66ab7d",
   "metadata": {},
   "source": [
    "## Create xml and write to file"
   ]
  },
  {
   "cell_type": "code",
   "execution_count": null,
   "id": "a6b437ae",
   "metadata": {},
   "outputs": [],
   "source": [
    "import xml.etree.cElementTree as ET\n",
    "\n",
    "ids_of_interest = [1]\n",
    "\n",
    "root = ET.Element(\"data\")\n",
    "intervals = dict()\n",
    "for idx, elem in enumerate(ids_of_interest):\n",
    "    interval = ET.SubElement(root, \"interval\", id=str(elem), begin=str(idx*3600), end=str(idx*3600+3599))\n",
    "    print(interval)\n",
    "    intervals[str(elem)] = interval"
   ]
  },
  {
   "cell_type": "code",
   "execution_count": null,
   "id": "b69063af",
   "metadata": {},
   "outputs": [],
   "source": [
    "consistency_check['OSM_id'] = consistency_check.index"
   ]
  },
  {
   "cell_type": "code",
   "execution_count": null,
   "id": "16acd5d7",
   "metadata": {},
   "outputs": [],
   "source": [
    "consistency_check"
   ]
  },
  {
   "cell_type": "raw",
   "id": "4c9fa141",
   "metadata": {},
   "source": [
    "## Test application: get tomtom matches for baysis edges\n",
    "consistency_check[consistency_check['OSM_id'].isin(baysis[0])].to_csv('baysis_and_tomtom/baysis_edges_tomtom.csv')"
   ]
  },
  {
   "cell_type": "code",
   "execution_count": null,
   "id": "cc77f79a",
   "metadata": {},
   "outputs": [],
   "source": [
    "scale_factor = # put your scale factor here"
   ]
  },
  {
   "cell_type": "code",
   "execution_count": null,
   "id": "03d1e6d3",
   "metadata": {},
   "outputs": [],
   "source": [
    "for idx, row in consistency_check.iterrows():\n",
    "    interval = intervals[str(ids_of_interest[0])]\n",
    "    ET.SubElement(interval, \"edge\", id = row['OSM_id'], entered = str(int(row['median']*scale_factor)))\n",
    "    \n",
    "tree = ET.ElementTree(root)\n",
    "ET.indent(tree, space = \"\\t\", level = 0)\n",
    "tree.write(\"map_{}_manually_modified.xml\".format(int(scale_factor)))"
   ]
  }
 ],
 "metadata": {
  "kernelspec": {
   "display_name": "Python 3 (ipykernel)",
   "language": "python",
   "name": "python3"
  },
  "language_info": {
   "codemirror_mode": {
    "name": "ipython",
    "version": 3
   },
   "file_extension": ".py",
   "mimetype": "text/x-python",
   "name": "python",
   "nbconvert_exporter": "python",
   "pygments_lexer": "ipython3",
   "version": "3.10.8"
  }
 },
 "nbformat": 4,
 "nbformat_minor": 5
}
